{
  "nbformat": 4,
  "nbformat_minor": 0,
  "metadata": {
    "colab": {
      "provenance": [],
      "authorship_tag": "ABX9TyNVfp6bfv+F7/dx9G0m5GdW",
      "include_colab_link": true
    },
    "kernelspec": {
      "name": "python3",
      "display_name": "Python 3"
    },
    "language_info": {
      "name": "python"
    }
  },
  "cells": [
    {
      "cell_type": "markdown",
      "metadata": {
        "id": "view-in-github",
        "colab_type": "text"
      },
      "source": [
        "<a href=\"https://colab.research.google.com/github/dkhanna511/Pytorch_tutorials_Revision/blob/main/Convolutional_Neural_Networks.ipynb\" target=\"_parent\"><img src=\"https://colab.research.google.com/assets/colab-badge.svg\" alt=\"Open In Colab\"/></a>"
      ]
    },
    {
      "cell_type": "code",
      "execution_count": 36,
      "metadata": {
        "id": "bJXA0oRoOJ06"
      },
      "outputs": [],
      "source": [
        " import torch\n",
        " import numpy as np\n",
        " import torch.nn as nn\n",
        " import torch.nn.functional as F\n",
        " from torch.utils.data import DataLoader\n",
        " from torchvision import datasets, transforms\n",
        " from torchvision.utils import make_grid\n",
        "\n",
        " import pandas as pd\n",
        " from sklearn.metrics import confusion_matrix\n",
        " import matplotlib.pyplot as plt\n",
        " %matplotlib inline"
      ]
    },
    {
      "cell_type": "code",
      "source": [
        "\n",
        "## Convert MNIST image files into tensor of 4-dimensions (# of images, height, width, channels)\n",
        "transform = transforms.ToTensor()\n",
        "\n",
        "\n"
      ],
      "metadata": {
        "id": "b14SYAxIshDg"
      },
      "execution_count": 37,
      "outputs": []
    },
    {
      "cell_type": "code",
      "source": [
        "## Train Dataset\n",
        "train_data = datasets.MNIST(root = '/cnn_data', train = True, download = True, transform = transform)"
      ],
      "metadata": {
        "id": "UZUzwQTZtxwh"
      },
      "execution_count": 38,
      "outputs": []
    },
    {
      "cell_type": "code",
      "source": [
        "## test dataset\n",
        "test_data = datasets.MNIST(root = '/cnn_data', train = False, download = True, transform = transform)"
      ],
      "metadata": {
        "id": "g0eF2G1puI1s"
      },
      "execution_count": 39,
      "outputs": []
    },
    {
      "cell_type": "code",
      "source": [
        "train_data"
      ],
      "metadata": {
        "colab": {
          "base_uri": "https://localhost:8080/"
        },
        "id": "L4RuGWFnuVtW",
        "outputId": "6281081e-da60-40b6-a432-07d1a5e5b53d"
      },
      "execution_count": 40,
      "outputs": [
        {
          "output_type": "execute_result",
          "data": {
            "text/plain": [
              "Dataset MNIST\n",
              "    Number of datapoints: 60000\n",
              "    Root location: /cnn_data\n",
              "    Split: Train\n",
              "    StandardTransform\n",
              "Transform: ToTensor()"
            ]
          },
          "metadata": {},
          "execution_count": 40
        }
      ]
    },
    {
      "cell_type": "code",
      "source": [
        "test_data"
      ],
      "metadata": {
        "colab": {
          "base_uri": "https://localhost:8080/"
        },
        "id": "hbXpAh1LuX_1",
        "outputId": "c134ba23-c322-431b-ce4f-5f387ecda344"
      },
      "execution_count": 41,
      "outputs": [
        {
          "output_type": "execute_result",
          "data": {
            "text/plain": [
              "Dataset MNIST\n",
              "    Number of datapoints: 10000\n",
              "    Root location: /cnn_data\n",
              "    Split: Test\n",
              "    StandardTransform\n",
              "Transform: ToTensor()"
            ]
          },
          "metadata": {},
          "execution_count": 41
        }
      ]
    },
    {
      "cell_type": "code",
      "source": [
        "pwd"
      ],
      "metadata": {
        "colab": {
          "base_uri": "https://localhost:8080/",
          "height": 36
        },
        "id": "-BSkVp84uZ4F",
        "outputId": "ef128902-4f23-4150-89db-e8f04f561005"
      },
      "execution_count": 42,
      "outputs": [
        {
          "output_type": "execute_result",
          "data": {
            "text/plain": [
              "'/content'"
            ],
            "application/vnd.google.colaboratory.intrinsic+json": {
              "type": "string"
            }
          },
          "metadata": {},
          "execution_count": 42
        }
      ]
    },
    {
      "cell_type": "code",
      "source": [
        "ls"
      ],
      "metadata": {
        "colab": {
          "base_uri": "https://localhost:8080/"
        },
        "id": "Gugz1-AGudiI",
        "outputId": "3f9db715-97fe-46ee-f7bd-e6d65f8617cd"
      },
      "execution_count": 43,
      "outputs": [
        {
          "output_type": "stream",
          "name": "stdout",
          "text": [
            "\u001b[0m\u001b[01;34msample_data\u001b[0m/\n"
          ]
        }
      ]
    },
    {
      "cell_type": "code",
      "source": [
        "cd ../"
      ],
      "metadata": {
        "colab": {
          "base_uri": "https://localhost:8080/"
        },
        "id": "1-wKs5NyuehS",
        "outputId": "014a1235-d0e2-4918-b6f1-7e7900842505"
      },
      "execution_count": 44,
      "outputs": [
        {
          "output_type": "stream",
          "name": "stdout",
          "text": [
            "/\n"
          ]
        }
      ]
    },
    {
      "cell_type": "code",
      "source": [
        "pwd"
      ],
      "metadata": {
        "colab": {
          "base_uri": "https://localhost:8080/",
          "height": 36
        },
        "id": "UvWeX78fujOa",
        "outputId": "7a9fc974-77b0-4ddf-f992-916554fde006"
      },
      "execution_count": 45,
      "outputs": [
        {
          "output_type": "execute_result",
          "data": {
            "text/plain": [
              "'/'"
            ],
            "application/vnd.google.colaboratory.intrinsic+json": {
              "type": "string"
            }
          },
          "metadata": {},
          "execution_count": 45
        }
      ]
    },
    {
      "cell_type": "code",
      "source": [
        "ls"
      ],
      "metadata": {
        "colab": {
          "base_uri": "https://localhost:8080/"
        },
        "id": "ZbcGGbmuuj7e",
        "outputId": "550819ec-575f-4319-a6c4-fe2d189e0e51"
      },
      "execution_count": 46,
      "outputs": [
        {
          "output_type": "stream",
          "name": "stdout",
          "text": [
            "\u001b[0m\u001b[01;36mbin\u001b[0m@                        \u001b[01;34mdatalab\u001b[0m/  \u001b[01;36mlib\u001b[0m@     \u001b[01;34mmnt\u001b[0m/                      \u001b[01;34mroot\u001b[0m/  \u001b[30;42mtmp\u001b[0m/\n",
            "\u001b[01;34mboot\u001b[0m/                       \u001b[01;34mdev\u001b[0m/      \u001b[01;36mlib32\u001b[0m@   NGC-DL-CONTAINER-LICENSE  \u001b[01;34mrun\u001b[0m/   \u001b[01;34mtools\u001b[0m/\n",
            "\u001b[01;34mcnn_data\u001b[0m/                   \u001b[01;34metc\u001b[0m/      \u001b[01;36mlib64\u001b[0m@   \u001b[01;34mopt\u001b[0m/                      \u001b[01;36msbin\u001b[0m@  \u001b[01;34musr\u001b[0m/\n",
            "\u001b[01;34mcontent\u001b[0m/                    \u001b[01;34mhome\u001b[0m/     \u001b[01;36mlibx32\u001b[0m@  \u001b[01;34mproc\u001b[0m/                     \u001b[01;34msrv\u001b[0m/   \u001b[01;34mvar\u001b[0m/\n",
            "cuda-keyring_1.0-1_all.deb  \u001b[01;34mkaggle\u001b[0m/   \u001b[01;34mmedia\u001b[0m/   \u001b[01;34mpython-apt\u001b[0m/               \u001b[01;34msys\u001b[0m/\n"
          ]
        }
      ]
    },
    {
      "cell_type": "code",
      "source": [
        "cd cnn_data/"
      ],
      "metadata": {
        "colab": {
          "base_uri": "https://localhost:8080/"
        },
        "id": "cmO0F-r0ulbm",
        "outputId": "6df51d91-c302-4a41-fd78-9f93fde084f9"
      },
      "execution_count": 47,
      "outputs": [
        {
          "output_type": "stream",
          "name": "stdout",
          "text": [
            "/cnn_data\n"
          ]
        }
      ]
    },
    {
      "cell_type": "code",
      "source": [
        "ls"
      ],
      "metadata": {
        "colab": {
          "base_uri": "https://localhost:8080/"
        },
        "id": "9ME39S5suqbO",
        "outputId": "c4dd25a4-c531-4a81-ba59-0f7faf042a0c"
      },
      "execution_count": 48,
      "outputs": [
        {
          "output_type": "stream",
          "name": "stdout",
          "text": [
            "\u001b[0m\u001b[01;34mMNIST\u001b[0m/\n"
          ]
        }
      ]
    },
    {
      "cell_type": "code",
      "source": [
        "cd ../content/"
      ],
      "metadata": {
        "colab": {
          "base_uri": "https://localhost:8080/"
        },
        "id": "b-2scdqkurO_",
        "outputId": "5d74a3f3-62df-44f5-e588-c63b2f46cff7"
      },
      "execution_count": 49,
      "outputs": [
        {
          "output_type": "stream",
          "name": "stdout",
          "text": [
            "/content\n"
          ]
        }
      ]
    },
    {
      "cell_type": "markdown",
      "source": [
        "## Defining dataloaders and playing the layers as of now."
      ],
      "metadata": {
        "id": "ig9_Kw-iu8wi"
      }
    },
    {
      "cell_type": "code",
      "source": [
        "## create a small batch for the images -- Dataloader\n",
        "train_loader = DataLoader(train_data, batch_size = 10, shuffle = True)\n",
        "test_loader = DataLoader(test_data, batch_size = 10, shuffle = False)"
      ],
      "metadata": {
        "id": "s5ea1yHSutjO"
      },
      "execution_count": 50,
      "outputs": []
    },
    {
      "cell_type": "code",
      "source": [
        "## Define out CNN Model\n",
        "## Describe Convlutional Layer and what it is doing (2 Convlutional layer)\n",
        "## Thi is just an example\n",
        "\n",
        "conv1 = nn.Conv2d(in_channels = 1, out_channels = 6, kernel_size = 3, stride = 1, padding = 0)\n",
        "conv2 = nn.Conv2d(in_channels = 6, out_channels = 16, kernel_size = 3, stride = 1, padding = 0)\n",
        "\n"
      ],
      "metadata": {
        "id": "JhVJJTGqvl_1"
      },
      "execution_count": 51,
      "outputs": []
    },
    {
      "cell_type": "code",
      "source": [
        "## Grab 1 MNIST Record/image\n",
        "for i, (X_train, y_train) in enumerate(train_data):\n",
        "    break\n",
        "X_train.shape\n"
      ],
      "metadata": {
        "colab": {
          "base_uri": "https://localhost:8080/"
        },
        "id": "HN_SkW3vwSCO",
        "outputId": "119c4286-c68b-413c-f6aa-ebb61d4d68b4"
      },
      "execution_count": 52,
      "outputs": [
        {
          "output_type": "execute_result",
          "data": {
            "text/plain": [
              "torch.Size([1, 28, 28])"
            ]
          },
          "metadata": {},
          "execution_count": 52
        }
      ]
    },
    {
      "cell_type": "code",
      "source": [
        "## We want to change this x_train into a 4D Batch\n",
        "x = X_train.view(1,1, 28, 28)"
      ],
      "metadata": {
        "id": "dCu7G80DwO3l"
      },
      "execution_count": 53,
      "outputs": []
    },
    {
      "cell_type": "code",
      "source": [
        "## Perform convlutional\n",
        "x = F.relu(conv1(x)) ## Rectified Linear unit for Activation function"
      ],
      "metadata": {
        "id": "0sg8mVY4wqiG"
      },
      "execution_count": 54,
      "outputs": []
    },
    {
      "cell_type": "code",
      "source": [
        "x"
      ],
      "metadata": {
        "colab": {
          "base_uri": "https://localhost:8080/"
        },
        "id": "Qakwcf7nw3mN",
        "outputId": "8992e45c-77b1-4197-9378-cb56c15a6be6"
      },
      "execution_count": 55,
      "outputs": [
        {
          "output_type": "execute_result",
          "data": {
            "text/plain": [
              "tensor([[[[0.0000, 0.0000, 0.0000,  ..., 0.0000, 0.0000, 0.0000],\n",
              "          [0.0000, 0.0000, 0.0000,  ..., 0.0000, 0.0000, 0.0000],\n",
              "          [0.0000, 0.0000, 0.0000,  ..., 0.0000, 0.0000, 0.0000],\n",
              "          ...,\n",
              "          [0.0000, 0.0000, 0.0000,  ..., 0.0000, 0.0000, 0.0000],\n",
              "          [0.0000, 0.0000, 0.0000,  ..., 0.0000, 0.0000, 0.0000],\n",
              "          [0.0000, 0.0000, 0.0000,  ..., 0.0000, 0.0000, 0.0000]],\n",
              "\n",
              "         [[0.1849, 0.1849, 0.1849,  ..., 0.1849, 0.1849, 0.1849],\n",
              "          [0.1849, 0.1849, 0.1849,  ..., 0.1849, 0.1849, 0.1849],\n",
              "          [0.1849, 0.1849, 0.1849,  ..., 0.1849, 0.1849, 0.1849],\n",
              "          ...,\n",
              "          [0.1849, 0.1849, 0.2393,  ..., 0.1849, 0.1849, 0.1849],\n",
              "          [0.1849, 0.1849, 0.1613,  ..., 0.1849, 0.1849, 0.1849],\n",
              "          [0.1849, 0.1849, 0.1849,  ..., 0.1849, 0.1849, 0.1849]],\n",
              "\n",
              "         [[0.0000, 0.0000, 0.0000,  ..., 0.0000, 0.0000, 0.0000],\n",
              "          [0.0000, 0.0000, 0.0000,  ..., 0.0000, 0.0000, 0.0000],\n",
              "          [0.0000, 0.0000, 0.0000,  ..., 0.0000, 0.0000, 0.0000],\n",
              "          ...,\n",
              "          [0.0000, 0.0000, 0.0000,  ..., 0.0000, 0.0000, 0.0000],\n",
              "          [0.0000, 0.0000, 0.0000,  ..., 0.0000, 0.0000, 0.0000],\n",
              "          [0.0000, 0.0000, 0.0000,  ..., 0.0000, 0.0000, 0.0000]],\n",
              "\n",
              "         [[0.2582, 0.2582, 0.2582,  ..., 0.2582, 0.2582, 0.2582],\n",
              "          [0.2582, 0.2582, 0.2582,  ..., 0.2582, 0.2582, 0.2582],\n",
              "          [0.2582, 0.2582, 0.2582,  ..., 0.2582, 0.2582, 0.2582],\n",
              "          ...,\n",
              "          [0.2582, 0.2582, 0.0445,  ..., 0.2582, 0.2582, 0.2582],\n",
              "          [0.2582, 0.2582, 0.1630,  ..., 0.2582, 0.2582, 0.2582],\n",
              "          [0.2582, 0.2582, 0.2582,  ..., 0.2582, 0.2582, 0.2582]],\n",
              "\n",
              "         [[0.0000, 0.0000, 0.0000,  ..., 0.0000, 0.0000, 0.0000],\n",
              "          [0.0000, 0.0000, 0.0000,  ..., 0.0000, 0.0000, 0.0000],\n",
              "          [0.0000, 0.0000, 0.0000,  ..., 0.0000, 0.0000, 0.0000],\n",
              "          ...,\n",
              "          [0.0000, 0.0000, 0.0000,  ..., 0.0000, 0.0000, 0.0000],\n",
              "          [0.0000, 0.0000, 0.0000,  ..., 0.0000, 0.0000, 0.0000],\n",
              "          [0.0000, 0.0000, 0.0000,  ..., 0.0000, 0.0000, 0.0000]],\n",
              "\n",
              "         [[0.0000, 0.0000, 0.0000,  ..., 0.0000, 0.0000, 0.0000],\n",
              "          [0.0000, 0.0000, 0.0000,  ..., 0.0000, 0.0000, 0.0000],\n",
              "          [0.0000, 0.0000, 0.0000,  ..., 0.0000, 0.0000, 0.0000],\n",
              "          ...,\n",
              "          [0.0000, 0.0000, 0.0369,  ..., 0.0000, 0.0000, 0.0000],\n",
              "          [0.0000, 0.0000, 0.0000,  ..., 0.0000, 0.0000, 0.0000],\n",
              "          [0.0000, 0.0000, 0.0000,  ..., 0.0000, 0.0000, 0.0000]]]],\n",
              "       grad_fn=<ReluBackward0>)"
            ]
          },
          "metadata": {},
          "execution_count": 55
        }
      ]
    },
    {
      "cell_type": "code",
      "source": [
        "x.shape     ### It gi=ves (1, 6, 26, 26)  1: single image, 6: output channels of conv1 layer, 26*26 --> output height x width because  padding was 0 so stride reduced the size. very very basic"
      ],
      "metadata": {
        "colab": {
          "base_uri": "https://localhost:8080/"
        },
        "id": "PL5BCI5Lw6Ce",
        "outputId": "c0df365f-0079-4bfe-c01c-0322bb41b940"
      },
      "execution_count": 56,
      "outputs": [
        {
          "output_type": "execute_result",
          "data": {
            "text/plain": [
              "torch.Size([1, 6, 26, 26])"
            ]
          },
          "metadata": {},
          "execution_count": 56
        }
      ]
    },
    {
      "cell_type": "code",
      "source": [
        "## pass through the pooling layer now\n",
        "\n",
        "x = F.max_pool2d(x, kernel_size = 2, stride = 2)"
      ],
      "metadata": {
        "id": "QbvrZTDxw8zg"
      },
      "execution_count": 57,
      "outputs": []
    },
    {
      "cell_type": "code",
      "source": [
        "x.shape  ### pooling took the stride and kernel size as 2, which naturally reduces the size by 2  26/2 = 13"
      ],
      "metadata": {
        "colab": {
          "base_uri": "https://localhost:8080/"
        },
        "id": "jKESr5r_xs39",
        "outputId": "9f2f870b-7ccc-4d01-8563-43ad37ad3b5c"
      },
      "execution_count": 58,
      "outputs": [
        {
          "output_type": "execute_result",
          "data": {
            "text/plain": [
              "torch.Size([1, 6, 13, 13])"
            ]
          },
          "metadata": {},
          "execution_count": 58
        }
      ]
    },
    {
      "cell_type": "code",
      "source": [
        "### Lets do a seocnd convolutional layer now\n",
        "x = F.relu(conv2(x))    ## 1: only 1 image, 16 =  number of output channels, (11, 11) : the reduction because of no padding\n",
        "x.shape    ###"
      ],
      "metadata": {
        "colab": {
          "base_uri": "https://localhost:8080/"
        },
        "id": "0jUwu0iTxxPk",
        "outputId": "99c4ab54-3fa4-42aa-8610-3f70fb3dced0"
      },
      "execution_count": 59,
      "outputs": [
        {
          "output_type": "execute_result",
          "data": {
            "text/plain": [
              "torch.Size([1, 16, 11, 11])"
            ]
          },
          "metadata": {},
          "execution_count": 59
        }
      ]
    },
    {
      "cell_type": "code",
      "source": [
        "x = F.max_pool2d(x, kernel_size = 2, stride= 2)\n",
        "x.shape ## gives (1, 16, 5, 5) ---> same logic as above, 11/2 = 5.5 = 5"
      ],
      "metadata": {
        "colab": {
          "base_uri": "https://localhost:8080/"
        },
        "id": "WBwXAoRZyGa1",
        "outputId": "a7945652-3521-440e-e69b-8d871cca4a92"
      },
      "execution_count": 60,
      "outputs": [
        {
          "output_type": "execute_result",
          "data": {
            "text/plain": [
              "torch.Size([1, 16, 5, 5])"
            ]
          },
          "metadata": {},
          "execution_count": 60
        }
      ]
    },
    {
      "cell_type": "markdown",
      "source": [
        "# Enough played, now building the CNN Network"
      ],
      "metadata": {
        "id": "g54e61tPy0jj"
      }
    },
    {
      "cell_type": "code",
      "source": [
        "class ConvlutionalNetwork(nn.Module):\n",
        "    def __init__(self):\n",
        "        super().__init__()\n",
        "        self.conv1 = nn.Conv2d(in_channels = 1, out_channels = 6, kernel_size = 3, stride = 1)\n",
        "        self.conv2 = nn.Conv2d(in_channels = 6, out_channels = 16, kernel_size = 3, stride = 1)\n",
        "\n",
        "        ## Fully connected layer\n",
        "        self.fc1 = nn.Linear(5*5*16, 120)     ## 120 neurons, 5*5*16 comes from the dimensions of conv2d ( 5, 5, 16)\n",
        "        self.fc2 = nn.Linear(120, 84)\n",
        "        self.fc3 = nn.Linear(84, 10)\n",
        "\n",
        "    def forward(self, x):\n",
        "\n",
        "        x = F.relu(self.conv1(x))\n",
        "        x = F.max_pool2d(x, 2, 2)\n",
        "        x = F.relu(self.conv2(x))\n",
        "\n",
        "        x = F.max_pool2d(x, 2, 2)\n",
        "\n",
        "        ## Rehaping (flattening) the outputs in order to pass it through the linear layers\n",
        "        x = x.view(-1, 16 * 5*5)\n",
        "\n",
        "        ## Fully connected layers\n",
        "        x = F.relu(self.fc1(x))\n",
        "        x = F.relu(self.fc2(x))\n",
        "\n",
        "        ## Not putting the relu coz this is basically the output layer.\n",
        "        x = self.fc3(x)\n",
        "\n",
        "        ## Softmax gives us the probabilities between 0 and 1 since this is a multi class classification\n",
        "        return F.log_softmax(x, dim = 1)\n",
        "\n",
        "\n",
        "\n",
        "\n"
      ],
      "metadata": {
        "id": "uSaW3DIaykQX"
      },
      "execution_count": 73,
      "outputs": []
    },
    {
      "cell_type": "code",
      "source": [
        "torch.manual_seed(41)  ## Setting up a seed where to start the weights (somewhat)\n",
        "\n",
        "## Creating an instance of the model\n",
        "\n",
        "model = ConvlutionalNetwork()\n",
        "model\n"
      ],
      "metadata": {
        "colab": {
          "base_uri": "https://localhost:8080/"
        },
        "id": "FGjy-k1C97-I",
        "outputId": "050833be-1b0b-4dbb-d1cc-df1289fffd61"
      },
      "execution_count": 74,
      "outputs": [
        {
          "output_type": "execute_result",
          "data": {
            "text/plain": [
              "ConvlutionalNetwork(\n",
              "  (conv1): Conv2d(1, 6, kernel_size=(3, 3), stride=(1, 1))\n",
              "  (conv2): Conv2d(6, 16, kernel_size=(3, 3), stride=(1, 1))\n",
              "  (fc1): Linear(in_features=400, out_features=120, bias=True)\n",
              "  (fc2): Linear(in_features=120, out_features=84, bias=True)\n",
              "  (fc3): Linear(in_features=84, out_features=10, bias=True)\n",
              ")"
            ]
          },
          "metadata": {},
          "execution_count": 74
        }
      ]
    },
    {
      "cell_type": "code",
      "source": [
        "## Loss function  & optimizer\n",
        "criterion = nn.CrossEntropyLoss()\n",
        "optimizer = torch.optim.Adam(model.parameters(), lr = 0.001) ## Smaller the learning rate, the longer it's gonna train\n",
        "\n"
      ],
      "metadata": {
        "id": "pdofl_Qo-DDX"
      },
      "execution_count": 75,
      "outputs": []
    },
    {
      "cell_type": "code",
      "source": [
        "import time\n",
        "start_time = time.time()\n",
        "\n",
        "## Create variables to track things\n",
        "epochs = 5\n",
        "train_losses = []\n",
        "test_losses = []\n",
        "train_correct = []\n",
        "test_correct = []\n",
        "\n",
        "## For loop of epochs\n",
        "\n",
        "for i in range(epochs):\n",
        "    train_corr = 0\n",
        "    test_corr = 0\n",
        "\n",
        "    ## Train\n",
        "\n",
        "    for b, (X_train, y_train) in enumerate(train_loader):\n",
        "        b+=1\n",
        "        y_pred = model(X_train) ## Get predicted values from the training set. Not flattened\n",
        "        loss = criterion(y_pred, y_train) ## Show how far off we are? Compare the predictions to correct labels\n",
        "\n",
        "        predicted = torch.max(y_pred.data, 1)[1] ## Add up the number of correct predictions\n",
        "\n",
        "        batch_corr = (predicted == y_train).sum() ## How many we got correct from this specific batch, True = 1, False = 0, Sum the True ones\n",
        "        train_corr +=batch_corr ## keep track as we go along in training\n",
        "\n",
        "        ## update our parameters\n",
        "        optimizer.zero_grad()\n",
        "        loss.backward()\n",
        "        optimizer.step()\n",
        "\n",
        "        ## Print out some results:\n",
        "        if b%600 ==0:\n",
        "            print(\"Epoch : {}, Batch : {}, Loss : {}\".format(i, b, loss.item()))\n",
        "    train_losses.append(loss)\n",
        "    train_correct.append(train_corr)\n",
        "\n",
        "\n",
        "    ## Test\n",
        "    with torch.no_grad(): ## No gradient so we dont update our weights and biases with test\n",
        "        for b, (X_test, Y_test) in enumerate(test_loader):\n",
        "            y_val = model(X_test)\n",
        "            predicted = torch.max(y_val.data, 1)[1]  ## Adding up correct predictions\n",
        "\n",
        "            test_corr += (predicted == Y_test).sum()\n",
        "\n",
        "        loss = criterion(y_val, Y_test)\n",
        "        test_losses.append(loss)\n",
        "        test_correct.append(test_corr)\n",
        "\n",
        "\n",
        "current_time = time.time()\n",
        "total_time = current_time - start_time\n",
        "print(\"Training took : {} minutes\".format(total_time/60))"
      ],
      "metadata": {
        "colab": {
          "base_uri": "https://localhost:8080/"
        },
        "id": "lW2ayHRa-7l0",
        "outputId": "7e6a42de-2a99-4a55-c138-2df719cd3910"
      },
      "execution_count": 78,
      "outputs": [
        {
          "output_type": "stream",
          "name": "stdout",
          "text": [
            "Epoch : 0, Batch : 600, Loss : 0.14749222993850708\n",
            "Epoch : 0, Batch : 1200, Loss : 0.2706121802330017\n",
            "Epoch : 0, Batch : 1800, Loss : 0.00956921186298132\n",
            "Epoch : 0, Batch : 2400, Loss : 0.0063883536495268345\n",
            "Epoch : 0, Batch : 3000, Loss : 0.002237545093521476\n",
            "Epoch : 0, Batch : 3600, Loss : 0.23918752372264862\n",
            "Epoch : 0, Batch : 4200, Loss : 0.00048339104978367686\n",
            "Epoch : 0, Batch : 4800, Loss : 0.1504632532596588\n",
            "Epoch : 0, Batch : 5400, Loss : 0.0010857878951355815\n",
            "Epoch : 0, Batch : 6000, Loss : 0.001957091735675931\n",
            "Epoch : 1, Batch : 600, Loss : 0.011673185043036938\n",
            "Epoch : 1, Batch : 1200, Loss : 0.13187162578105927\n",
            "Epoch : 1, Batch : 1800, Loss : 0.5180457830429077\n",
            "Epoch : 1, Batch : 2400, Loss : 0.31928375363349915\n",
            "Epoch : 1, Batch : 3000, Loss : 0.5415772795677185\n",
            "Epoch : 1, Batch : 3600, Loss : 0.004114631563425064\n",
            "Epoch : 1, Batch : 4200, Loss : 0.4243695139884949\n",
            "Epoch : 1, Batch : 4800, Loss : 0.0007736948318779469\n",
            "Epoch : 1, Batch : 5400, Loss : 0.009582110680639744\n",
            "Epoch : 1, Batch : 6000, Loss : 0.0235171876847744\n",
            "Epoch : 2, Batch : 600, Loss : 0.021059537306427956\n",
            "Epoch : 2, Batch : 1200, Loss : 0.001273738220334053\n",
            "Epoch : 2, Batch : 1800, Loss : 0.0015498610446229577\n",
            "Epoch : 2, Batch : 2400, Loss : 0.3456018567085266\n",
            "Epoch : 2, Batch : 3000, Loss : 0.001587417908012867\n",
            "Epoch : 2, Batch : 3600, Loss : 0.03411406651139259\n",
            "Epoch : 2, Batch : 4200, Loss : 0.03635181114077568\n",
            "Epoch : 2, Batch : 4800, Loss : 2.7416524972068146e-05\n",
            "Epoch : 2, Batch : 5400, Loss : 0.0011036503128707409\n",
            "Epoch : 2, Batch : 6000, Loss : 0.00040450962842442095\n",
            "Epoch : 3, Batch : 600, Loss : 0.10505988448858261\n",
            "Epoch : 3, Batch : 1200, Loss : 0.00018478640413377434\n",
            "Epoch : 3, Batch : 1800, Loss : 0.04359640181064606\n",
            "Epoch : 3, Batch : 2400, Loss : 0.0220559723675251\n",
            "Epoch : 3, Batch : 3000, Loss : 0.00020134153601247817\n",
            "Epoch : 3, Batch : 3600, Loss : 0.06602079421281815\n",
            "Epoch : 3, Batch : 4200, Loss : 0.0035922438837587833\n",
            "Epoch : 3, Batch : 4800, Loss : 0.005729828029870987\n",
            "Epoch : 3, Batch : 5400, Loss : 0.0001239250850630924\n",
            "Epoch : 3, Batch : 6000, Loss : 0.0003706074203364551\n",
            "Epoch : 4, Batch : 600, Loss : 0.00034066737862303853\n",
            "Epoch : 4, Batch : 1200, Loss : 0.00010640888649504632\n",
            "Epoch : 4, Batch : 1800, Loss : 0.0002102428989019245\n",
            "Epoch : 4, Batch : 2400, Loss : 7.307387022592593e-06\n",
            "Epoch : 4, Batch : 3000, Loss : 0.0019299478735774755\n",
            "Epoch : 4, Batch : 3600, Loss : 0.01865839585661888\n",
            "Epoch : 4, Batch : 4200, Loss : 0.0009762399713508785\n",
            "Epoch : 4, Batch : 4800, Loss : 0.013853991404175758\n",
            "Epoch : 4, Batch : 5400, Loss : 0.00048166210763156414\n",
            "Epoch : 4, Batch : 6000, Loss : 0.0006333889323286712\n",
            "Training took : 4.289387941360474 minutes\n"
          ]
        }
      ]
    },
    {
      "cell_type": "markdown",
      "source": [
        "## Creating plots"
      ],
      "metadata": {
        "id": "zHOrGMzMNSGO"
      }
    },
    {
      "cell_type": "code",
      "source": [
        "## Graph the loss at each epoch\n",
        "# print(test_losses)\n",
        "# train_losses = [tl.item() for tl in train_losses]\n",
        "# test_losses = [tl.item() for tl in test_losses]\n",
        "\n",
        "plt.plot(train_losses, label = \"Training loss\")\n",
        "plt.plot(test_losses, label =\"Validation loss\")\n",
        "plt.title(\"Loss at epoch\")\n",
        "plt.legend()\n"
      ],
      "metadata": {
        "colab": {
          "base_uri": "https://localhost:8080/",
          "height": 469
        },
        "id": "LFU3qTRtK9lt",
        "outputId": "c16c43d2-c840-4104-fad4-2a8c8f1715c6"
      },
      "execution_count": 83,
      "outputs": [
        {
          "output_type": "execute_result",
          "data": {
            "text/plain": [
              "<matplotlib.legend.Legend at 0x7b3d3f88de70>"
            ]
          },
          "metadata": {},
          "execution_count": 83
        },
        {
          "output_type": "display_data",
          "data": {
            "text/plain": [
              "<Figure size 640x480 with 1 Axes>"
            ],
            "image/png": "[encoded data removed]"
          },
          "metadata": {}
        }
      ]
    },
    {
      "cell_type": "code",
      "source": [
        "### graph the accuracy at the end of each epoch\n",
        "\n",
        "plt.plot([t/600 for t in train_correct], label = \"training accuracy\")\n",
        "plt.plot([t/100 for t in test_correct], label = \"validation accuracy\")\n",
        "plt.legend()\n"
      ],
      "metadata": {
        "colab": {
          "base_uri": "https://localhost:8080/",
          "height": 447
        },
        "id": "q2jrFHkbN4pM",
        "outputId": "494eac90-b83b-48cb-acb3-9b63d1959fe8"
      },
      "execution_count": 84,
      "outputs": [
        {
          "output_type": "execute_result",
          "data": {
            "text/plain": [
              "<matplotlib.legend.Legend at 0x7b3d400acfa0>"
            ]
          },
          "metadata": {},
          "execution_count": 84
        },
        {
          "output_type": "display_data",
          "data": {
            "text/plain": [
              "<Figure size 640x480 with 1 Axes>"
            ],
            "image/png": "[encoded data removed]"
          },
          "metadata": {}
        }
      ]
    },
    {
      "cell_type": "code",
      "source": [
        "test_loader_everything = DataLoader(test_data, batch_size = 10000, shuffle = False)\n",
        "with torch.no_grad():\n",
        "    correct = 0\n",
        "    for (X_test, y_test) in test_loader_everything:\n",
        "        y_val = model(X_test)\n",
        "        predicted = torch.max(y_val, 1)[1]\n",
        "        correct +=(predicted == y_test).sum()\n",
        "\n",
        "\n"
      ],
      "metadata": {
        "id": "AegccA-XPLXM"
      },
      "execution_count": 85,
      "outputs": []
    },
    {
      "cell_type": "code",
      "source": [
        "correct.item()"
      ],
      "metadata": {
        "colab": {
          "base_uri": "https://localhost:8080/"
        },
        "id": "S-fvUMzDP3iw",
        "outputId": "a4365c05-2ec0-436f-c3ea-ce9a80881f57"
      },
      "execution_count": 86,
      "outputs": [
        {
          "output_type": "execute_result",
          "data": {
            "text/plain": [
              "9867"
            ]
          },
          "metadata": {},
          "execution_count": 86
        }
      ]
    },
    {
      "cell_type": "code",
      "source": [
        "correct.item()/len(test_data) * 100   ## Accuracy"
      ],
      "metadata": {
        "colab": {
          "base_uri": "https://localhost:8080/"
        },
        "id": "KVvwihuFP5CG",
        "outputId": "b9a0ba51-18af-4d7a-edcf-1aa48a81d169"
      },
      "execution_count": 88,
      "outputs": [
        {
          "output_type": "execute_result",
          "data": {
            "text/plain": [
              "98.67"
            ]
          },
          "metadata": {},
          "execution_count": 88
        }
      ]
    },
    {
      "cell_type": "code",
      "source": [],
      "metadata": {
        "id": "ArzRQprNP-WB"
      },
      "execution_count": null,
      "outputs": []
    }
  ]
}