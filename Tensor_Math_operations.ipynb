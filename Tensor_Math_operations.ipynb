{
  "nbformat": 4,
  "nbformat_minor": 0,
  "metadata": {
    "colab": {
      "provenance": [],
      "authorship_tag": "ABX9TyM1uZopZo2SvC02OAzV5S3z",
      "include_colab_link": true
    },
    "kernelspec": {
      "name": "python3",
      "display_name": "Python 3"
    },
    "language_info": {
      "name": "python"
    }
  },
  "cells": [
    {
      "cell_type": "markdown",
      "metadata": {
        "id": "view-in-github",
        "colab_type": "text"
      },
      "source": [
        "<a href=\"https://colab.research.google.com/github/dkhanna511/Pytorch_tutorials_Revision/blob/main/Tensor_Math_operations.ipynb\" target=\"_parent\"><img src=\"https://colab.research.google.com/assets/colab-badge.svg\" alt=\"Open In Colab\"/></a>"
      ]
    },
    {
      "cell_type": "code",
      "execution_count": 1,
      "metadata": {
        "id": "40Kw6BnbDKyA"
      },
      "outputs": [],
      "source": [
        "import torch\n",
        "import numpy as np\n"
      ]
    },
    {
      "cell_type": "code",
      "source": [
        "tensor_a = torch.tensor([1,2,3,4,5,6,7,8])\n",
        "tensor_b = torch.tensor([9, 10, 11, 12, 13, 14, 15, 16])\n",
        "tensor_a + tensor_b   ### Addition short hand"
      ],
      "metadata": {
        "colab": {
          "base_uri": "https://localhost:8080/"
        },
        "id": "CSW_S_cTDUyH",
        "outputId": "b278d2f5-5f2d-41ce-b7c4-65e468cc4ae3"
      },
      "execution_count": 5,
      "outputs": [
        {
          "output_type": "execute_result",
          "data": {
            "text/plain": [
              "tensor([10, 12, 14, 16, 18, 20, 22, 24])"
            ]
          },
          "metadata": {},
          "execution_count": 5
        }
      ]
    },
    {
      "cell_type": "code",
      "source": [
        "### Addition long hand\n",
        "torch.add(tensor_a, tensor_b)"
      ],
      "metadata": {
        "colab": {
          "base_uri": "https://localhost:8080/"
        },
        "id": "j6ibIEpUDps3",
        "outputId": "93a5f0fb-5316-48d8-e819-f2d0901d9c38"
      },
      "execution_count": 6,
      "outputs": [
        {
          "output_type": "execute_result",
          "data": {
            "text/plain": [
              "tensor([10, 12, 14, 16, 18, 20, 22, 24])"
            ]
          },
          "metadata": {},
          "execution_count": 6
        }
      ]
    },
    {
      "cell_type": "code",
      "source": [
        "## Subtract short\n",
        "tensor_b - tensor_a"
      ],
      "metadata": {
        "colab": {
          "base_uri": "https://localhost:8080/"
        },
        "id": "_mWrhzFWD0-w",
        "outputId": "30fa2947-7802-4c2a-beae-a4cbe0bb1c77"
      },
      "execution_count": 7,
      "outputs": [
        {
          "output_type": "execute_result",
          "data": {
            "text/plain": [
              "tensor([8, 8, 8, 8, 8, 8, 8, 8])"
            ]
          },
          "metadata": {},
          "execution_count": 7
        }
      ]
    },
    {
      "cell_type": "code",
      "source": [
        "## Subtract long head\n",
        "torch.subtract(tensor_b, tensor_a)\n",
        "torch.sub(tensor_b, tensor_a)   ## Both are for subtraction"
      ],
      "metadata": {
        "colab": {
          "base_uri": "https://localhost:8080/"
        },
        "id": "H8CEjjGZEE3x",
        "outputId": "06793d3e-f4d1-4272-e763-431111ad41b1"
      },
      "execution_count": 9,
      "outputs": [
        {
          "output_type": "execute_result",
          "data": {
            "text/plain": [
              "tensor([8, 8, 8, 8, 8, 8, 8, 8])"
            ]
          },
          "metadata": {},
          "execution_count": 9
        }
      ]
    },
    {
      "cell_type": "code",
      "source": [
        "### Multiplication short hand\n",
        "tensor_a * tensor_b\n",
        "# element wise multiplication"
      ],
      "metadata": {
        "colab": {
          "base_uri": "https://localhost:8080/"
        },
        "id": "e-78ZqNuEMIR",
        "outputId": "4bf01e4f-9e66-4b6f-8d17-0e8bfeaca14b"
      },
      "execution_count": 10,
      "outputs": [
        {
          "output_type": "execute_result",
          "data": {
            "text/plain": [
              "tensor([  9,  20,  33,  48,  65,  84, 105, 128])"
            ]
          },
          "metadata": {},
          "execution_count": 10
        }
      ]
    },
    {
      "cell_type": "code",
      "source": [
        "## Multiplication long head\n",
        "torch.mul(tensor_a, tensor_b)    ## element wise multiplication"
      ],
      "metadata": {
        "colab": {
          "base_uri": "https://localhost:8080/"
        },
        "id": "fSsXxhu3EXn4",
        "outputId": "18e86c26-1a98-48b3-d3bd-f6019cead5cf"
      },
      "execution_count": 11,
      "outputs": [
        {
          "output_type": "execute_result",
          "data": {
            "text/plain": [
              "tensor([  9,  20,  33,  48,  65,  84, 105, 128])"
            ]
          },
          "metadata": {},
          "execution_count": 11
        }
      ]
    },
    {
      "cell_type": "code",
      "source": [
        "### Division short hand\n",
        "tensor_b / tensor_a     ## It converts the values into floating points"
      ],
      "metadata": {
        "colab": {
          "base_uri": "https://localhost:8080/"
        },
        "id": "Awz1s4CrEfox",
        "outputId": "85936330-eb49-465c-d3c9-668737990c49"
      },
      "execution_count": 14,
      "outputs": [
        {
          "output_type": "execute_result",
          "data": {
            "text/plain": [
              "tensor([9.0000, 5.0000, 3.6667, 3.0000, 2.6000, 2.3333, 2.1429, 2.0000])"
            ]
          },
          "metadata": {},
          "execution_count": 14
        }
      ]
    },
    {
      "cell_type": "code",
      "source": [
        "## Division long head\n",
        "torch.div(tensor_b, tensor_a) ## Works the same way"
      ],
      "metadata": {
        "colab": {
          "base_uri": "https://localhost:8080/"
        },
        "id": "YChEkrp8Emr6",
        "outputId": "11e0d2a8-cb41-42b4-9cf9-a2d2f75cf9e9"
      },
      "execution_count": 16,
      "outputs": [
        {
          "output_type": "execute_result",
          "data": {
            "text/plain": [
              "tensor([9.0000, 5.0000, 3.6667, 3.0000, 2.6000, 2.3333, 2.1429, 2.0000])"
            ]
          },
          "metadata": {},
          "execution_count": 16
        }
      ]
    },
    {
      "cell_type": "code",
      "source": [
        "### Modulus\n",
        "tensor_b % tensor_a"
      ],
      "metadata": {
        "colab": {
          "base_uri": "https://localhost:8080/"
        },
        "id": "cLPzkNtIEylb",
        "outputId": "afa5c7ae-737b-455a-91ef-bc273093c60c"
      },
      "execution_count": 17,
      "outputs": [
        {
          "output_type": "execute_result",
          "data": {
            "text/plain": [
              "tensor([0, 0, 2, 0, 3, 2, 1, 0])"
            ]
          },
          "metadata": {},
          "execution_count": 17
        }
      ]
    },
    {
      "cell_type": "code",
      "source": [
        "torch.remainder(tensor_b, tensor_a)\n"
      ],
      "metadata": {
        "colab": {
          "base_uri": "https://localhost:8080/"
        },
        "id": "XxbNTdmoHriv",
        "outputId": "a9c399e5-254b-4e93-ff69-809e2d31facf"
      },
      "execution_count": 18,
      "outputs": [
        {
          "output_type": "execute_result",
          "data": {
            "text/plain": [
              "tensor([0, 0, 2, 0, 3, 2, 1, 0])"
            ]
          },
          "metadata": {},
          "execution_count": 18
        }
      ]
    },
    {
      "cell_type": "code",
      "source": [
        "### Exponents\n",
        "## Using longhand\n",
        "torch.pow(tensor_b, tensor_a)\n"
      ],
      "metadata": {
        "colab": {
          "base_uri": "https://localhost:8080/"
        },
        "id": "zFBrvfrTH2U-",
        "outputId": "4b9700c1-d41d-4827-d282-1603497d4c1c"
      },
      "execution_count": 21,
      "outputs": [
        {
          "output_type": "execute_result",
          "data": {
            "text/plain": [
              "tensor([         9,        100,       1331,      20736,     371293,    7529536,\n",
              "         170859375, 4294967296])"
            ]
          },
          "metadata": {},
          "execution_count": 21
        }
      ]
    },
    {
      "cell_type": "code",
      "source": [
        "## using shorthand\n",
        "\n",
        "tensor_b ** tensor_a"
      ],
      "metadata": {
        "colab": {
          "base_uri": "https://localhost:8080/"
        },
        "id": "iJQpafhgH71m",
        "outputId": "b6291a08-dee9-42a8-d0ac-2544638b3fd9"
      },
      "execution_count": 22,
      "outputs": [
        {
          "output_type": "execute_result",
          "data": {
            "text/plain": [
              "tensor([         9,        100,       1331,      20736,     371293,    7529536,\n",
              "         170859375, 4294967296])"
            ]
          },
          "metadata": {},
          "execution_count": 22
        }
      ]
    },
    {
      "cell_type": "code",
      "source": [
        "### Another way to write longhand\n",
        "tensor_a.add(tensor_b)  ## Doing addition in a different longhead way"
      ],
      "metadata": {
        "colab": {
          "base_uri": "https://localhost:8080/"
        },
        "id": "foNeB9PkII3k",
        "outputId": "f310d02f-a1c9-48cf-9bec-c848c4b78601"
      },
      "execution_count": 23,
      "outputs": [
        {
          "output_type": "execute_result",
          "data": {
            "text/plain": [
              "tensor([10, 12, 14, 16, 18, 20, 22, 24])"
            ]
          },
          "metadata": {},
          "execution_count": 23
        }
      ]
    },
    {
      "cell_type": "markdown",
      "source": [
        "## Assignments"
      ],
      "metadata": {
        "id": "INfezttIIZgB"
      }
    },
    {
      "cell_type": "code",
      "source": [
        "# tensor_a = tensor_a + tensor_b ## this is one way\n",
        "\n",
        "\n",
        "## The other way\n",
        "\n",
        "tensor_a.add_(tensor_b)\n",
        "\n",
        "# tensor_a"
      ],
      "metadata": {
        "colab": {
          "base_uri": "https://localhost:8080/"
        },
        "id": "uMBjHoq_IU6h",
        "outputId": "ed51d593-67b0-483b-f985-b9d931d806cf"
      },
      "execution_count": 27,
      "outputs": [
        {
          "output_type": "execute_result",
          "data": {
            "text/plain": [
              "tensor([28, 32, 36, 40, 44, 48, 52, 56])"
            ]
          },
          "metadata": {},
          "execution_count": 27
        }
      ]
    },
    {
      "cell_type": "code",
      "source": [],
      "metadata": {
        "id": "VRGEMX4SIoMZ"
      },
      "execution_count": null,
      "outputs": []
    }
  ]
}