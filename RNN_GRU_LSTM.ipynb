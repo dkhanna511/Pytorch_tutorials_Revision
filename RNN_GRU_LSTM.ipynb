{
  "nbformat": 4,
  "nbformat_minor": 0,
  "metadata": {
    "colab": {
      "provenance": [],
      "authorship_tag": "ABX9TyPID9nbrz2LmfYiL2GCuPux",
      "include_colab_link": true
    },
    "kernelspec": {
      "name": "python3",
      "display_name": "Python 3"
    },
    "language_info": {
      "name": "python"
    }
  },
  "cells": [
    {
      "cell_type": "markdown",
      "metadata": {
        "id": "view-in-github",
        "colab_type": "text"
      },
      "source": [
        "<a href=\"https://colab.research.google.com/github/dkhanna511/Pytorch_tutorials_Revision/blob/main/RNN_GRU_LSTM.ipynb\" target=\"_parent\"><img src=\"https://colab.research.google.com/assets/colab-badge.svg\" alt=\"Open In Colab\"/></a>"
      ]
    },
    {
      "cell_type": "code",
      "execution_count": 26,
      "metadata": {
        "id": "e6ioVzxkW99n"
      },
      "outputs": [],
      "source": [
        "import torch\n",
        "import torchvision\n",
        "import torch.nn as nn ## All neural network modules, nn.Linear, nn.Con2d, BatchNorm, Loss Functions\n",
        "from torch.utils.data import DataLoader  ## Gives easier data management and creates  minii batches\n",
        "import torch.nn.functional as F  ## All functions that dont have parameters\n",
        "import torchvision.datasets as datasets ## Has standard datasets that can we can import in a nice way\n",
        "import torchvision.transforms as transforms ## Transformations we can perform on our dataset\n",
        "import torch.optim as optim ## For all optimizartion algoerithms such as SGD, Adam, etc\n"
      ]
    },
    {
      "cell_type": "code",
      "source": [
        "device= torch.device('cuda' if torch.cuda.is_available() else 'cpu')"
      ],
      "metadata": {
        "id": "MZA_PW_jXr6K"
      },
      "execution_count": 27,
      "outputs": []
    },
    {
      "cell_type": "code",
      "source": [
        "## Hyperparameters  (working on MNIST Dataset only for this one)\n",
        "input_size = 28\n",
        "sequence_length = 28   ## We're taking one row at a time of the3 images in RNN\n",
        "num_layers = 2\n",
        "hidden_size = 256\n",
        "num_classes = 10\n",
        "learning_rate = 0.001\n",
        "batch_size = 64\n",
        "num_epochs = 2\n"
      ],
      "metadata": {
        "id": "xX0tqrEkXytB"
      },
      "execution_count": 28,
      "outputs": []
    },
    {
      "cell_type": "code",
      "source": [
        "## Create an RNN\n",
        "\n",
        "class RNN(nn.Module):\n",
        "    def __init__(self, input_size, hidden_size, num_layers, num_classes):\n",
        "        super().__init__()\n",
        "        self.hidden_size = hidden_size\n",
        "        self.num_layers = num_layers\n",
        "        # self.rnn= nn.RNN(input_size, hidden_size, num_layers, batch_first = True) # The dataset has batches as their axis, we need to say it's True for getting it in correct order of sequence.  N x time_seq x features\n",
        "        # self.rnn= nn.GRU(input_size, hidden_size, num_layers, batch_first = True) # The dataset has batches as their axis, we need to say it's True for getting it in correct order of sequence.  N x time_seq x features\n",
        "        self.rnn= nn.LSTM(input_size, hidden_size, num_layers, batch_first = True) # The dataset has batches as their axis, we need to say it's True for getting it in correct order of sequence.  N x time_seq x features\n",
        "\n",
        "        self.fc = nn.Linear(hidden_size * sequence_length, num_classes)\n",
        "\n",
        "\n",
        "    def forward(self, x):\n",
        "        h0 = torch.zeros(self.num_layers, x.size(0), self.hidden_size).to(device)\n",
        "        c0 = torch.zeros(self.num_layers, x.size(0), self.hidden_size).to(device)\n",
        "        ## Forward propagation\n",
        "\n",
        "\n",
        "        # out, _ = self.rnn(x, h0)   ## This is for GRU/RNN --> Comment it out for LSTM\n",
        "        out, _ = self.rnn(x, (h0, c0)) #### This is if you want to run LSTM\n",
        "        out = out.reshape(out.shape[0], -1)   ## 28 x hidden size\n",
        "\n",
        "        out = self.fc(out)\n",
        "\n",
        "        return out\n",
        "\n",
        "\n",
        "\n"
      ],
      "metadata": {
        "id": "LlefNHrWX_Tg"
      },
      "execution_count": 29,
      "outputs": []
    },
    {
      "cell_type": "code",
      "source": [
        "### Loading data\n",
        "\n",
        "train_dataset = datasets.MNIST(root = \"/dataset\", train = True, transform = transforms.ToTensor(), download = True)\n",
        "\n",
        "test_dataset = datasets.MNIST(root = \"/dataset\", train = False, transform=transforms.ToTensor(), download = False)\n"
      ],
      "metadata": {
        "id": "xfbzUqo2Zzk9"
      },
      "execution_count": 30,
      "outputs": []
    },
    {
      "cell_type": "code",
      "source": [
        "### Create Dataloaders\n",
        "\n",
        "train_loader = DataLoader(dataset = train_dataset, batch_size = batch_size, shuffle = True)\n",
        "test_loader = DataLoader(dataset = test_dataset, batch_size = batch_size, shuffle = False)\n"
      ],
      "metadata": {
        "id": "jQp7olz-aQnE"
      },
      "execution_count": 31,
      "outputs": []
    },
    {
      "cell_type": "code",
      "source": [
        "### Initialize the model\n",
        "\n",
        "model = RNN(input_size, hidden_size, num_layers, num_classes).to(device)"
      ],
      "metadata": {
        "id": "mfX8rulKaeAD"
      },
      "execution_count": 32,
      "outputs": []
    },
    {
      "cell_type": "code",
      "source": [
        "### Loss and Optimizer\n",
        "\n",
        "criterion = nn.CrossEntropyLoss()\n",
        "optimizer = optim.Adam(model.parameters(), lr = learning_rate)"
      ],
      "metadata": {
        "id": "9qqJP23Eaq5l"
      },
      "execution_count": 33,
      "outputs": []
    },
    {
      "cell_type": "code",
      "source": [
        "#### Train network\n",
        "for epoch in range(num_epochs):\n",
        "    for batch_idx, (data, targets) in enumerate(train_loader):\n",
        "\n",
        "        ## Get data to cusa if possible()\n",
        "        data = data.to(device = device).squeeze(1)   ## MNIST has dataset format (N, 1, 28, 28) but RNN needs (N, 28, 28), so we just squeeze it to match the format\n",
        "        targets = targets.to(device = device)\n",
        "\n",
        "        ## Forward propagation\n",
        "\n",
        "        predictions = model(data)\n",
        "        loss = criterion(predictions, targets)\n",
        "\n",
        "        ## Backward propagation\n",
        "        optimizer.zero_grad()\n",
        "        loss.backward()\n",
        "\n",
        "        ## gradient descent or Adam step\n",
        "        optimizer.step() ## It just makes a step to try to reach a local/global minimum\n",
        "\n",
        "    print(\"Epochs : {}, Loss : {}\".format(epoch, loss))\n"
      ],
      "metadata": {
        "colab": {
          "base_uri": "https://localhost:8080/"
        },
        "id": "2dDkBaUKbRZ3",
        "outputId": "e7eecd29-3fa1-44c9-86ea-63054d13116e"
      },
      "execution_count": 34,
      "outputs": [
        {
          "output_type": "stream",
          "name": "stdout",
          "text": [
            "Epochs : 0, Loss : 0.059881649911403656\n",
            "Epochs : 1, Loss : 0.0641922652721405\n"
          ]
        }
      ]
    },
    {
      "cell_type": "code",
      "source": [
        "## Checking the accuracy\n",
        "\n",
        "\n",
        "def check_accuracy(loader, model):\n",
        "    if loader.dataset.train:\n",
        "        print(\" checking accuracy on training data\")\n",
        "    else:\n",
        "        print(\"checking accuracy on testing data\")\n",
        "\n",
        "\n",
        "    num_correct = 0\n",
        "    num_samples = 0\n",
        "    model.eval()\n",
        "\n",
        "    with torch.no_grad():\n",
        "        for x, y in loader:\n",
        "            x = x.to(device = device).squeeze(1)\n",
        "            y = y.to(device = device)\n",
        "\n",
        "            scores = model(x)\n",
        "            _, predictions = scores.max(1)\n",
        "\n",
        "            num_correct +=(predictions == y).sum()\n",
        "            num_samples +=predictions.size(0)\n",
        "\n",
        "        print(\" Got {}/{} with accuracy of {}\".format(num_correct, num_samples, float(num_correct)/float(num_samples)*100))\n",
        "\n",
        "\n",
        "    model.train()"
      ],
      "metadata": {
        "id": "RyiESckSdKJl"
      },
      "execution_count": 35,
      "outputs": []
    },
    {
      "cell_type": "code",
      "source": [
        "check_accuracy(train_loader, model)\n",
        "check_accuracy(test_loader, model)"
      ],
      "metadata": {
        "colab": {
          "base_uri": "https://localhost:8080/"
        },
        "id": "TT9YMR_OeU4O",
        "outputId": "c31951e8-8651-49cc-82ea-bb64a9fadada"
      },
      "execution_count": 36,
      "outputs": [
        {
          "output_type": "stream",
          "name": "stdout",
          "text": [
            " checking accuracy on training data\n",
            " Got 59266/60000 with accuracy of 98.77666666666667\n",
            "checking accuracy on testing data\n",
            " Got 9871/10000 with accuracy of 98.71\n"
          ]
        }
      ]
    },
    {
      "cell_type": "code",
      "source": [],
      "metadata": {
        "id": "IPK49RpFeb11"
      },
      "execution_count": null,
      "outputs": []
    }
  ]
}